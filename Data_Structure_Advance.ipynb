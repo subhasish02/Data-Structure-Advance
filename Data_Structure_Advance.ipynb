{
 "cells": [
  {
   "cell_type": "markdown",
   "id": "7fd55fff",
   "metadata": {},
   "source": [
    "# Data Structure in Python"
   ]
  },
  {
   "cell_type": "markdown",
   "id": "eb080317",
   "metadata": {},
   "source": [
    "# Write a code to reverse a string."
   ]
  },
  {
   "cell_type": "code",
   "execution_count": 1,
   "id": "db2bd1f9",
   "metadata": {},
   "outputs": [
    {
     "name": "stdout",
     "output_type": "stream",
     "text": [
      "dlrow olleh\n"
     ]
    }
   ],
   "source": [
    "#code\n",
    "string = \"hello world\"\n",
    "reversed_string = \"\"\n",
    "\n",
    "for char in string:\n",
    "  reversed_string = char + reversed_string\n",
    "\n",
    "print(reversed_string)  # Output: \"dlrow olleh\""
   ]
  },
  {
   "cell_type": "markdown",
   "id": "c31c5183",
   "metadata": {},
   "source": [
    "# Write a code to count the number of vowels in a string."
   ]
  },
  {
   "cell_type": "code",
   "execution_count": 4,
   "id": "864664cd",
   "metadata": {},
   "outputs": [
    {
     "name": "stdout",
     "output_type": "stream",
     "text": [
      "Number of vowels: 3\n"
     ]
    }
   ],
   "source": [
    "# code\n",
    "string = \"hello world\"\n",
    "vowel_count = 0\n",
    "\n",
    "for char in string:\n",
    "  if char in \"aeiouAEIOU\":\n",
    "    vowel_count += 1\n",
    "\n",
    "print(\"Number of vowels:\", vowel_count)  # Output: \"Number of vowels: 3\""
   ]
  },
  {
   "cell_type": "markdown",
   "id": "0bc25569",
   "metadata": {},
   "source": [
    "# Write a code to check if a given string is a palindrome or not."
   ]
  },
  {
   "cell_type": "code",
   "execution_count": 3,
   "id": "74a2eed6",
   "metadata": {},
   "outputs": [
    {
     "name": "stdout",
     "output_type": "stream",
     "text": [
      "The string is a palindrome.\n"
     ]
    }
   ],
   "source": [
    "#code\n",
    "string = \"racecar\"\n",
    "\n",
    "reversed_string = string[::-1]\n",
    "\n",
    "if string == reversed_string:\n",
    "  print(\"The string is a palindrome.\")\n",
    "else:\n",
    "  print(\"The string is not a palindrome.\")"
   ]
  },
  {
   "cell_type": "markdown",
   "id": "db155c1c",
   "metadata": {},
   "source": [
    "# Write a code to check if two given strings are anagrams of each other."
   ]
  },
  {
   "cell_type": "code",
   "execution_count": 5,
   "id": "6ccbce10",
   "metadata": {},
   "outputs": [
    {
     "name": "stdout",
     "output_type": "stream",
     "text": [
      "The strings are anagrams.\n"
     ]
    }
   ],
   "source": [
    "#code\n",
    "string1 = \"hello\"\n",
    "string2 = \"loleh\"\n",
    "\n",
    "if len(string1) != len(string2):\n",
    "  print(\"The strings are not anagrams.\")\n",
    "else:\n",
    "  char_count1 = {}\n",
    "  char_count2 = {}\n",
    "\n",
    "  for char in string1:\n",
    "    char_count1[char] = char_count1.get(char, 0) + 1\n",
    "\n",
    "  for char in string2:\n",
    "    char_count2[char] = char_count2.get(char, 0) + 1\n",
    "\n",
    "  if char_count1 == char_count2:\n",
    "    print(\"The strings are anagrams.\")\n",
    "  else:\n",
    "    print(\"The strings are not anagrams.\")"
   ]
  },
  {
   "cell_type": "markdown",
   "id": "4f7abd84",
   "metadata": {},
   "source": [
    "# Write a code to find all occurrences of a given substring within another string."
   ]
  },
  {
   "cell_type": "code",
   "execution_count": 6,
   "id": "f00b2af4",
   "metadata": {},
   "outputs": [
    {
     "name": "stdout",
     "output_type": "stream",
     "text": [
      "Occurrences of 'hello': [0, 13]\n",
      "Occurrences of 'world': [6]\n",
      "Occurrences of 'again': [19]\n",
      "Occurrences of 'not_present': []\n"
     ]
    }
   ],
   "source": [
    "#code\n",
    "main_string = \"hello world, hello again\"\n",
    "substrings = [\"hello\", \"world\", \"again\", \"not_present\"]\n",
    "\n",
    "for substring in substrings:\n",
    "  occurrences = []\n",
    "  index = 0\n",
    "\n",
    "  while index < len(main_string):\n",
    "    index = main_string.find(substring, index)\n",
    "    if index == -1:\n",
    "      break\n",
    "    occurrences.append(index)\n",
    "    index += 1\n",
    "\n",
    "  print(f\"Occurrences of '{substring}': {occurrences}\")"
   ]
  },
  {
   "cell_type": "markdown",
   "id": "28f76814",
   "metadata": {},
   "source": [
    "# Write a code to perform basic string compression using the counts of repeated characters."
   ]
  },
  {
   "cell_type": "code",
   "execution_count": 7,
   "id": "39bd7468",
   "metadata": {},
   "outputs": [
    {
     "name": "stdout",
     "output_type": "stream",
     "text": [
      "02130314\n"
     ]
    }
   ],
   "source": [
    "#code\n",
    "string = \"001110001111\"\n",
    "compressed_string = \"\"\n",
    "count = 1\n",
    "\n",
    "for i in range(1, len(string)):\n",
    "  if string[i] == string[i - 1]:\n",
    "    count += 1\n",
    "  else:\n",
    "    compressed_string += string[i - 1] + str(count)\n",
    "    count = 1\n",
    "\n",
    "compressed_string += string[-1] + str(count)\n",
    "print(compressed_string)  # Output: \"02130314\""
   ]
  },
  {
   "cell_type": "markdown",
   "id": "658150bb",
   "metadata": {},
   "source": [
    "# Write a code to determine if a string has all unique character."
   ]
  },
  {
   "cell_type": "code",
   "execution_count": 8,
   "id": "debe77bb",
   "metadata": {},
   "outputs": [
    {
     "name": "stdout",
     "output_type": "stream",
     "text": [
      "The string does not have all unique characters.\n"
     ]
    }
   ],
   "source": [
    "#code\n",
    "string = \"hello\"\n",
    "char_set = set()\n",
    "\n",
    "for char in string:\n",
    "  if char in char_set:\n",
    "    print(\"The string does not have all unique characters.\")\n",
    "    break\n",
    "  char_set.add(char)\n",
    "\n",
    "else:\n",
    "  print(\"The string has all unique characters.\")"
   ]
  },
  {
   "cell_type": "markdown",
   "id": "bbbd5624",
   "metadata": {},
   "source": [
    "# Write a code to convert a given string to uppercase or lowercase."
   ]
  },
  {
   "cell_type": "code",
   "execution_count": 9,
   "id": "6c3e5feb",
   "metadata": {},
   "outputs": [
    {
     "name": "stdout",
     "output_type": "stream",
     "text": [
      "HELLO WORLD\n",
      "hello world\n"
     ]
    }
   ],
   "source": [
    "#code\n",
    "string = \"hello world\"\n",
    "\n",
    "upper_case_string = string.upper()\n",
    "lower_case_string = string.lower()\n",
    "\n",
    "print(upper_case_string)  # Output: \"HELLO WORLD\"\n",
    "print(lower_case_string)  # Output: \"hello world\""
   ]
  },
  {
   "cell_type": "markdown",
   "id": "b7cdd98f",
   "metadata": {},
   "source": [
    "# Write a code to count the number of words in a string."
   ]
  },
  {
   "cell_type": "code",
   "execution_count": 10,
   "id": "510c6ad6",
   "metadata": {},
   "outputs": [
    {
     "name": "stdout",
     "output_type": "stream",
     "text": [
      "Number of words: 7\n"
     ]
    }
   ],
   "source": [
    "#code\n",
    "string = \"hello world this is a sample string\"\n",
    "words = string.split()\n",
    "word_count = len(words)\n",
    "\n",
    "print(\"Number of words:\", word_count)  # Output: \"Number of words: 6\""
   ]
  },
  {
   "cell_type": "markdown",
   "id": "7a663368",
   "metadata": {},
   "source": [
    "# Write a code to concatenate two strings without using + operator."
   ]
  },
  {
   "cell_type": "code",
   "execution_count": 11,
   "id": "0409f40e",
   "metadata": {},
   "outputs": [
    {
     "name": "stdout",
     "output_type": "stream",
     "text": [
      "hello world\n"
     ]
    }
   ],
   "source": [
    "#code\n",
    "string1 = \"hello\"\n",
    "string2 = \" world\"\n",
    "\n",
    "result = []\n",
    "for char in string1:\n",
    "  result.append(char)\n",
    "for char in string2:\n",
    "  result.append(char)\n",
    "\n",
    "concatenated_string = ''.join(result)\n",
    "print(concatenated_string)  # Output: \"hello world\""
   ]
  },
  {
   "cell_type": "markdown",
   "id": "b92417c4",
   "metadata": {},
   "source": [
    "# Write a code to remove all occurrences of a specific element from a list."
   ]
  },
  {
   "cell_type": "code",
   "execution_count": 12,
   "id": "9f891d9d",
   "metadata": {},
   "outputs": [
    {
     "name": "stdout",
     "output_type": "stream",
     "text": [
      "[1, 3, 4, 5]\n"
     ]
    }
   ],
   "source": [
    "#code\n",
    "list = [1, 2, 3, 2, 4, 2, 5]\n",
    "element_to_remove = 2\n",
    "\n",
    "while element_to_remove in list:\n",
    "  list.remove(element_to_remove)\n",
    "\n",
    "print(list)  # Output: [1, 3, 4, 5]"
   ]
  },
  {
   "cell_type": "markdown",
   "id": "ca6f80b1",
   "metadata": {},
   "source": [
    "# Implement a code to find the second largest number in a given list of integers."
   ]
  },
  {
   "cell_type": "code",
   "execution_count": 16,
   "id": "625dbbeb",
   "metadata": {},
   "outputs": [
    {
     "name": "stdout",
     "output_type": "stream",
     "text": [
      "7\n"
     ]
    }
   ],
   "source": [
    "#code\n",
    "numbers = [5, 2, 9, 1, 7]\n",
    "\n",
    "numbers.sort(reverse=True)\n",
    "\n",
    "if len(numbers) >= 2:\n",
    "  second_largest = numbers[1]\n",
    "else:\n",
    "  second_largest = None\n",
    "\n",
    "print(second_largest)  # Output: 7"
   ]
  },
  {
   "cell_type": "markdown",
   "id": "2dbd459c",
   "metadata": {},
   "source": [
    "# Create a code to count the occurrences of each element in a list and return a dictionary with elements as keys and their counts as values."
   ]
  },
  {
   "cell_type": "code",
   "execution_count": 17,
   "id": "667bb5bf",
   "metadata": {},
   "outputs": [
    {
     "name": "stdout",
     "output_type": "stream",
     "text": [
      "{1: 3, 2: 2, 3: 2, 4: 1}\n"
     ]
    }
   ],
   "source": [
    "#code\n",
    "my_list = [1, 2, 2, 3, 1, 4, 1, 3]\n",
    "count_dict = {}\n",
    "\n",
    "for item in my_list:\n",
    "    if item in count_dict:\n",
    "        count_dict[item] += 1\n",
    "    else:\n",
    "        count_dict[item] = 1\n",
    "\n",
    "print(count_dict)\n"
   ]
  },
  {
   "cell_type": "markdown",
   "id": "8be58daf",
   "metadata": {},
   "source": [
    "# write a code to reverse a list in-place without using any built-in reverse function."
   ]
  },
  {
   "cell_type": "code",
   "execution_count": 18,
   "id": "7ccbd081",
   "metadata": {},
   "outputs": [
    {
     "name": "stdout",
     "output_type": "stream",
     "text": [
      "[5, 4, 3, 2, 1]\n"
     ]
    }
   ],
   "source": [
    "#code\n",
    "my_list = [1, 2, 3, 4, 5]\n",
    "\n",
    "i = 0\n",
    "j = len(my_list) - 1\n",
    "\n",
    "while i < j:\n",
    "    my_list[i], my_list[j] = my_list[j], my_list[i]\n",
    "    i += 1\n",
    "    j -= 1\n",
    "\n",
    "print(my_list)  # Output: [5, 4, 3, 2, 1]\n"
   ]
  },
  {
   "cell_type": "markdown",
   "id": "542db0b2",
   "metadata": {},
   "source": [
    "# Implement a code to find and remove duplicates from a list preserving the original order of elements."
   ]
  },
  {
   "cell_type": "code",
   "execution_count": 19,
   "id": "e30f377f",
   "metadata": {},
   "outputs": [
    {
     "name": "stdout",
     "output_type": "stream",
     "text": [
      "[1, 2, 3, 4]\n"
     ]
    }
   ],
   "source": [
    "#code\n",
    "my_list = [1, 2, 2, 3, 1, 4, 1, 3]\n",
    "new_list = []\n",
    "seen = set()\n",
    "\n",
    "for item in my_list:\n",
    "    if item not in seen:\n",
    "        new_list.append(item)\n",
    "        seen.add(item)\n",
    "\n",
    "print(new_list)  # Output: [1, 2, 3, 4]\n"
   ]
  },
  {
   "cell_type": "markdown",
   "id": "a6f41c6b",
   "metadata": {},
   "source": [
    "# Create a code to check if a given list is sorted(either in ascending or descending order) or not."
   ]
  },
  {
   "cell_type": "code",
   "execution_count": 20,
   "id": "5724e250",
   "metadata": {},
   "outputs": [
    {
     "name": "stdout",
     "output_type": "stream",
     "text": [
      "The list is sorted in ascending order.\n"
     ]
    }
   ],
   "source": [
    "#code\n",
    "my_list = [1, 2, 3, 4, 5]\n",
    "\n",
    "if my_list == sorted(my_list):\n",
    "    print(\"The list is sorted in ascending order.\")\n",
    "elif my_list == sorted(my_list, reverse=True):\n",
    "    print(\"The list is sorted in descending order.\")\n",
    "else:\n",
    "    print(\"The list is not sorted.\")\n",
    "\n",
    "# Output: The list is sorted in ascending order.\n"
   ]
  },
  {
   "cell_type": "markdown",
   "id": "5e3635e5",
   "metadata": {},
   "source": [
    "# Write a code to merge two sorted lists into a single sorted list."
   ]
  },
  {
   "cell_type": "code",
   "execution_count": 21,
   "id": "0c41b4f6",
   "metadata": {},
   "outputs": [
    {
     "name": "stdout",
     "output_type": "stream",
     "text": [
      "[1, 2, 3, 4, 5, 6]\n"
     ]
    }
   ],
   "source": [
    "#code\n",
    "list1 = [1, 3, 5]\n",
    "list2 = [2, 4, 6]\n",
    "\n",
    "merged_list = []\n",
    "\n",
    "# Merge the two lists\n",
    "merged_list = list1 + list2\n",
    "merged_list.sort()\n",
    "\n",
    "print(merged_list)  # Output: [1, 2, 3, 4, 5, 6]\n"
   ]
  },
  {
   "cell_type": "markdown",
   "id": "2ec451e9",
   "metadata": {},
   "source": [
    "# implement a code to find the insertion of two given lists."
   ]
  },
  {
   "cell_type": "code",
   "execution_count": 22,
   "id": "fd264205",
   "metadata": {},
   "outputs": [
    {
     "name": "stdout",
     "output_type": "stream",
     "text": [
      "[4, 5]\n"
     ]
    }
   ],
   "source": [
    "#code\n",
    "list1 = [1, 2, 3, 4, 5]\n",
    "list2 = [4, 5, 6, 7, 8]\n",
    "\n",
    "# Find intersection\n",
    "intersection = []\n",
    "\n",
    "for item in list1:\n",
    "    if item in list2:\n",
    "        intersection.append(item)\n",
    "\n",
    "print(intersection)  # Output: [4, 5]\n"
   ]
  },
  {
   "cell_type": "markdown",
   "id": "6828579f",
   "metadata": {},
   "source": [
    "# Create a code to find the union of two lists without duplicates."
   ]
  },
  {
   "cell_type": "code",
   "execution_count": 23,
   "id": "bf13fab2",
   "metadata": {},
   "outputs": [
    {
     "name": "stdout",
     "output_type": "stream",
     "text": [
      "[1, 2, 3, 4, 5, 6, 7, 8]\n"
     ]
    }
   ],
   "source": [
    "#code\n",
    "list1 = [1, 2, 3, 4, 5]\n",
    "list2 = [4, 5, 6, 7, 8]\n",
    "\n",
    "# Create a union of the two lists without duplicates\n",
    "union = []\n",
    "\n",
    "# Add elements from the first list\n",
    "for item in list1:\n",
    "    if item not in union:\n",
    "        union.append(item)\n",
    "\n",
    "# Add elements from the second list\n",
    "for item in list2:\n",
    "    if item not in union:\n",
    "        union.append(item)\n",
    "\n",
    "print(union)  # Output: [1, 2, 3, 4, 5, 6, 7, 8]\n"
   ]
  },
  {
   "cell_type": "markdown",
   "id": "72f30981",
   "metadata": {},
   "source": [
    "# Write a code to shuffle a given list randomly without any built-in shuffle functions."
   ]
  },
  {
   "cell_type": "code",
   "execution_count": 24,
   "id": "dc8d9c3b",
   "metadata": {},
   "outputs": [
    {
     "name": "stdout",
     "output_type": "stream",
     "text": [
      "[3, 1, 2, 4, 5]\n"
     ]
    }
   ],
   "source": [
    "#code\n",
    "import random\n",
    "\n",
    "my_list = [1, 2, 3, 4, 5]\n",
    "\n",
    "# Shuffle the list\n",
    "shuffled_list = []\n",
    "\n",
    "while my_list:\n",
    "    index = random.randint(0, len(my_list) - 1)  # Get a random index\n",
    "    shuffled_list.append(my_list.pop(index))     # Remove and add the element to the new list\n",
    "\n",
    "print(shuffled_list)  # Output will vary as the list is shuffled randomly\n"
   ]
  },
  {
   "cell_type": "markdown",
   "id": "6d225328",
   "metadata": {},
   "source": [
    "# Write a code that takes two tuples as input and returns a new tuple containing elements that are common to both input tuples."
   ]
  },
  {
   "cell_type": "code",
   "execution_count": 25,
   "id": "2a54bef4",
   "metadata": {},
   "outputs": [
    {
     "name": "stdout",
     "output_type": "stream",
     "text": [
      "(4, 5)\n"
     ]
    }
   ],
   "source": [
    "#code\n",
    "tuple1 = (1, 2, 3, 4, 5)\n",
    "tuple2 = (4, 5, 6, 7, 8)\n",
    "\n",
    "# Find common elements\n",
    "common_elements = []\n",
    "\n",
    "for item in tuple1:\n",
    "    if item in tuple2:\n",
    "        common_elements.append(item)\n",
    "\n",
    "# Convert the list of common elements back to a tuple\n",
    "result_tuple = tuple(common_elements)\n",
    "\n",
    "print(result_tuple)  # Output: (4, 5)\n"
   ]
  },
  {
   "cell_type": "markdown",
   "id": "a742cf58",
   "metadata": {},
   "source": [
    "# Create a code that prompts the user to enter two sets of integers separated by commas.Then print the intersection of these two sets."
   ]
  },
  {
   "cell_type": "code",
   "execution_count": 26,
   "id": "1e2ea78d",
   "metadata": {},
   "outputs": [
    {
     "name": "stdout",
     "output_type": "stream",
     "text": [
      "Enter the first set of integers, separated by commas: 1,2,3,4,5\n",
      "Enter the second set of integers, separated by commas: 4,5,6,7,8\n",
      "The intersection of the two sets is: {4, 5}\n"
     ]
    }
   ],
   "source": [
    "#code\n",
    "# Prompt the user to enter two sets of integers\n",
    "input1 = input(\"Enter the first set of integers, separated by commas: \")\n",
    "input2 = input(\"Enter the second set of integers, separated by commas: \")\n",
    "\n",
    "# Convert the input strings into sets of integers\n",
    "set1 = set(map(int, input1.split(',')))\n",
    "set2 = set(map(int, input2.split(',')))\n",
    "\n",
    "# Find the intersection of the two sets\n",
    "intersection = set1 & set2  # or intersection = set1.intersection(set2)\n",
    "\n",
    "# Print the result\n",
    "print(\"The intersection of the two sets is:\", intersection)\n"
   ]
  },
  {
   "cell_type": "markdown",
   "id": "80ab8ec7",
   "metadata": {},
   "source": [
    "# Write a code to concatenate two tuples.The function should take two tuples as input and return a new tuple containing elements from both input tuples."
   ]
  },
  {
   "cell_type": "code",
   "execution_count": 28,
   "id": "0ec7c0e3",
   "metadata": {},
   "outputs": [
    {
     "name": "stdout",
     "output_type": "stream",
     "text": [
      "(1, 2, 3, 4, 5, 6)\n"
     ]
    }
   ],
   "source": [
    "#code\n",
    "tuple1 = (1, 2, 3)\n",
    "tuple2 = (4, 5, 6)\n",
    "\n",
    "# Concatenate the tuples\n",
    "result_tuple = tuple1 + tuple2\n",
    "\n",
    "print(result_tuple)  # Output: (1, 2, 3, 4, 5, 6)\n",
    "\n"
   ]
  },
  {
   "cell_type": "markdown",
   "id": "f198d78d",
   "metadata": {},
   "source": [
    "# Develop a code that prompts the user to input two sets of strings.Then ,print the elements tat are present in the first set but not in the second set."
   ]
  },
  {
   "cell_type": "code",
   "execution_count": 30,
   "id": "b71904ff",
   "metadata": {},
   "outputs": [
    {
     "name": "stdout",
     "output_type": "stream",
     "text": [
      "Enter the first set of strings, separated by commas: apple,banana,cherry\n",
      "Enter the second set of strings, separated by commas: banana,dragonfruit\n",
      "Elements in the first set but not in the second set: {'cherry', 'apple'}\n"
     ]
    }
   ],
   "source": [
    "#code\n",
    "# Prompt the user to enter two sets of strings\n",
    "input1 = input(\"Enter the first set of strings, separated by commas: \")\n",
    "input2 = input(\"Enter the second set of strings, separated by commas: \")\n",
    "\n",
    "# Convert the input strings into sets\n",
    "set1 = set(input1.split(','))\n",
    "set2 = set(input2.split(','))\n",
    "\n",
    "# Find elements in the first set but not in the second set\n",
    "difference = set1 - set2  # or difference = set1.difference(set2)\n",
    "\n",
    "# Print the result\n",
    "print(\"Elements in the first set but not in the second set:\", difference)\n"
   ]
  },
  {
   "cell_type": "markdown",
   "id": "bbc3883c",
   "metadata": {},
   "source": [
    "# create a code that takes a tuple and two integers as input.The function should return a new tuple containing elements from the original tuple within the specified of indices."
   ]
  },
  {
   "cell_type": "code",
   "execution_count": 31,
   "id": "4081eb5b",
   "metadata": {},
   "outputs": [
    {
     "name": "stdout",
     "output_type": "stream",
     "text": [
      "(2, 3, 4)\n"
     ]
    }
   ],
   "source": [
    "#code\n",
    "# Original tuple\n",
    "original_tuple = (1, 2, 3, 4, 5, 6)\n",
    "\n",
    "# Specify the start and end indices\n",
    "start_index = 1\n",
    "end_index = 4\n",
    "\n",
    "# Slice the tuple\n",
    "sliced_tuple = original_tuple[start_index:end_index]\n",
    "\n",
    "# Print the result\n",
    "print(sliced_tuple)  # Output: (2, 3, 4)\n"
   ]
  },
  {
   "cell_type": "markdown",
   "id": "91fedc0c",
   "metadata": {},
   "source": [
    "# Write a code that prompts the user to input two sets of characters.Then print the union of these two sets."
   ]
  },
  {
   "cell_type": "code",
   "execution_count": 32,
   "id": "56bd6052",
   "metadata": {},
   "outputs": [
    {
     "name": "stdout",
     "output_type": "stream",
     "text": [
      "Enter the first set of characters (without spaces): abcde\n",
      "Enter the second set of characters (without spaces): defgh\n",
      "The union of the two sets is: cgebahdf\n"
     ]
    }
   ],
   "source": [
    "#code\n",
    "# Prompt the user to input the first set of characters\n",
    "set1_input = input(\"Enter the first set of characters (without spaces): \")\n",
    "set1 = set(set1_input)\n",
    "\n",
    "# Prompt the user to input the second set of characters\n",
    "set2_input = input(\"Enter the second set of characters (without spaces): \")\n",
    "set2 = set(set2_input)\n",
    "\n",
    "# Calculate the union of the two sets\n",
    "union_set = set1.union(set2)\n",
    "\n",
    "# Print the union of the sets\n",
    "print(\"The union of the two sets is:\", ''.join(union_set))\n"
   ]
  },
  {
   "cell_type": "markdown",
   "id": "8ec46115",
   "metadata": {},
   "source": [
    "# Develop a code that takes a tuple of integers as input.The function should return the maximum and minimum values from the tuple using tuple unpacking."
   ]
  },
  {
   "cell_type": "code",
   "execution_count": 33,
   "id": "2482165c",
   "metadata": {},
   "outputs": [
    {
     "name": "stdout",
     "output_type": "stream",
     "text": [
      "Enter a tuple of integers (separated by commas): 1,2,3,4\n",
      "Minimum value: 1\n",
      "Maximum value: 4\n"
     ]
    }
   ],
   "source": [
    "#code\n",
    "# Prompt the user to input integers separated by commas\n",
    "input_values = input(\"Enter a tuple of integers (separated by commas): \")\n",
    "\n",
    "# Convert the input string into a tuple of integers\n",
    "int_tuple = tuple(map(int, input_values.split(',')))\n",
    "\n",
    "# Find the minimum and maximum values using tuple unpacking\n",
    "min_value, max_value = min(int_tuple), max(int_tuple)\n",
    "\n",
    "# Print the minimum and maximum values\n",
    "print(\"Minimum value:\", min_value)\n",
    "print(\"Maximum value:\", max_value)\n"
   ]
  },
  {
   "cell_type": "markdown",
   "id": "fdba0fd8",
   "metadata": {},
   "source": [
    "# Create a code that defines two sets of integers.Then ,print the union ,intersection and difference of these two sets."
   ]
  },
  {
   "cell_type": "code",
   "execution_count": 34,
   "id": "2fdc0d79",
   "metadata": {},
   "outputs": [
    {
     "name": "stdout",
     "output_type": "stream",
     "text": [
      "Union of the two sets: {1, 2, 3, 4, 5, 6, 7, 8}\n",
      "Intersection of the two sets: {4, 5}\n",
      "Difference of the first set from the second set: {1, 2, 3}\n"
     ]
    }
   ],
   "source": [
    "# Define the first set of integers\n",
    "set1 = {1, 2, 3, 4, 5}\n",
    "\n",
    "# Define the second set of integers\n",
    "set2 = {4, 5, 6, 7, 8}\n",
    "\n",
    "# Calculate the union, intersection, and difference\n",
    "union_set = set1.union(set2)\n",
    "intersection_set = set1.intersection(set2)\n",
    "difference_set = set1.difference(set2)\n",
    "\n",
    "# Print the results\n",
    "print(\"Union of the two sets:\", union_set)\n",
    "print(\"Intersection of the two sets:\", intersection_set)\n",
    "print(\"Difference of the first set from the second set:\", difference_set)\n"
   ]
  },
  {
   "cell_type": "markdown",
   "id": "9c19d932",
   "metadata": {},
   "source": [
    "# Write a code that takes a tuple and an element as input.The function should return the count of occurrences of the given element in the tuple."
   ]
  },
  {
   "cell_type": "code",
   "execution_count": 35,
   "id": "cf693289",
   "metadata": {},
   "outputs": [
    {
     "name": "stdout",
     "output_type": "stream",
     "text": [
      "Enter a tuple of integers (separated by commas): 1,2,2,3,4\n",
      "Enter the element to count its occurrences: 2\n",
      "The count of occurrences of 2 in the tuple is: 2\n"
     ]
    }
   ],
   "source": [
    "#code\n",
    "# Prompt the user to input a tuple of integers separated by commas\n",
    "input_values = input(\"Enter a tuple of integers (separated by commas): \")\n",
    "\n",
    "# Convert the input string into a tuple of integers\n",
    "int_tuple = tuple(map(int, input_values.split(',')))\n",
    "\n",
    "# Prompt the user to input the element to count\n",
    "element = int(input(\"Enter the element to count its occurrences: \"))\n",
    "\n",
    "# Count the occurrences of the given element in the tuple\n",
    "count = int_tuple.count(element)\n",
    "\n",
    "# Print the result\n",
    "print(\"The count of occurrences of\", element, \"in the tuple is:\", count)\n"
   ]
  },
  {
   "cell_type": "markdown",
   "id": "75c2a72d",
   "metadata": {},
   "source": [
    "# Dvelop a code that prompts the user to input two strings.Then print the symmentric difference of these two sets."
   ]
  },
  {
   "cell_type": "code",
   "execution_count": 36,
   "id": "16dc482e",
   "metadata": {},
   "outputs": [
    {
     "name": "stdout",
     "output_type": "stream",
     "text": [
      "Enter the first set of strings (separated by commas): apple,banana,cherry\n",
      "Enter the second set of strings (separated by commas): banana,cherry,date\n",
      "The symmetric difference of the two sets is: {'apple', 'date'}\n"
     ]
    }
   ],
   "source": [
    "#code\n",
    "# Prompt the user to input the first set of strings\n",
    "set1_input = input(\"Enter the first set of strings (separated by commas): \")\n",
    "set1 = set(set1_input.split(','))\n",
    "\n",
    "# Prompt the user to input the second set of strings\n",
    "set2_input = input(\"Enter the second set of strings (separated by commas): \")\n",
    "set2 = set(set2_input.split(','))\n",
    "\n",
    "# Calculate the symmetric difference\n",
    "symmetric_difference = set1.symmetric_difference(set2)\n",
    "\n",
    "# Print the symmetric difference\n",
    "print(\"The symmetric difference of the two sets is:\", symmetric_difference)\n"
   ]
  },
  {
   "cell_type": "markdown",
   "id": "14b755df",
   "metadata": {},
   "source": [
    "# Write a code that takes a list of words as input and returns a dictionary where the keys are unique words and the values are the frequencies of those words in the input list."
   ]
  },
  {
   "cell_type": "code",
   "execution_count": 37,
   "id": "b0e5c3dd",
   "metadata": {},
   "outputs": [
    {
     "name": "stdout",
     "output_type": "stream",
     "text": [
      "Enter a list of words (separated by spaces): apple banana apple cherry banana\n",
      "Word frequency dictionary: {'apple': 2, 'banana': 2, 'cherry': 1}\n"
     ]
    }
   ],
   "source": [
    "#code\n",
    "# Prompt the user to input a list of words separated by spaces\n",
    "input_words = input(\"Enter a list of words (separated by spaces): \")\n",
    "\n",
    "# Split the input string into a list of words\n",
    "word_list = input_words.split()\n",
    "\n",
    "# Create a dictionary to store the frequency of each word\n",
    "word_count = {}\n",
    "\n",
    "# Count the occurrences of each word\n",
    "for word in word_list:\n",
    "    if word in word_count:\n",
    "        word_count[word] += 1\n",
    "    else:\n",
    "        word_count[word] = 1\n",
    "\n",
    "# Print the resulting dictionary\n",
    "print(\"Word frequency dictionary:\", word_count)\n"
   ]
  },
  {
   "cell_type": "markdown",
   "id": "48a29e52",
   "metadata": {},
   "source": [
    "# Write a code that takes two dictionaries as input and merges them into a single dictionary.if there are common keys,the values should be added together."
   ]
  },
  {
   "cell_type": "code",
   "execution_count": 42,
   "id": "d6daf168",
   "metadata": {},
   "outputs": [
    {
     "name": "stdout",
     "output_type": "stream",
     "text": [
      "{'a': 1, 'b': 5, 'c': 4}\n"
     ]
    }
   ],
   "source": [
    "#code\n",
    "dict1 = {'a': 1, 'b': 2}\n",
    "dict2 = {'b': 3, 'c': 4}\n",
    "\n",
    "merged_dict = {}\n",
    "for key, value in dict1.items():\n",
    "  merged_dict[key] = value\n",
    "for key, value in dict2.items():\n",
    "  if key in merged_dict:\n",
    "    merged_dict[key] += value\n",
    "  else:\n",
    "    merged_dict[key] = value\n",
    "\n",
    "print(merged_dict)  # Output: {'a': 1, 'b': 5, 'c': 4}\n"
   ]
  },
  {
   "cell_type": "markdown",
   "id": "66e0e05e",
   "metadata": {},
   "source": [
    "# write a code to access a value in a nested dictionary .The function should take the dictionary and a list of keys as input,and return the corresponding value.if any of the keys do not exist in the dictionary, the function shoukd return none."
   ]
  },
  {
   "cell_type": "code",
   "execution_count": 43,
   "id": "2dd464b1",
   "metadata": {},
   "outputs": [
    {
     "name": "stdout",
     "output_type": "stream",
     "text": [
      "[1, 2, None]\n"
     ]
    }
   ],
   "source": [
    "#code\n",
    "dictionary = {'a': 1, 'b': 2, 'c': 3}\n",
    "keys = ['a', 'b', 'd']\n",
    "\n",
    "values = []\n",
    "for key in keys:\n",
    "  if key not in dictionary:\n",
    "    values.append(None)\n",
    "  else:\n",
    "    values.append(dictionary[key])\n",
    "\n",
    "print(values)  # Output: [1, 2, None]"
   ]
  },
  {
   "cell_type": "markdown",
   "id": "61ca6439",
   "metadata": {},
   "source": [
    "# Write a code that takes a dictionary as input and returns a sorted version of its based on the values .you can choose whether to sort in ascending or descending order."
   ]
  },
  {
   "cell_type": "code",
   "execution_count": 44,
   "id": "fc41e30d",
   "metadata": {},
   "outputs": [
    {
     "name": "stdout",
     "output_type": "stream",
     "text": [
      "{'b': 1, 'c': 2, 'a': 3}\n"
     ]
    }
   ],
   "source": [
    "#code\n",
    "dictionary = {'a': 3, 'b': 1, 'c': 2}\n",
    "\n",
    "sorted_items = sorted(dictionary.items(), key=lambda x: x[1])\n",
    "sorted_dict = dict(sorted_items)\n",
    "print(sorted_dict)  # Output: {'b': 1, 'c': 2, 'a': 3}"
   ]
  },
  {
   "cell_type": "markdown",
   "id": "db8c1b18",
   "metadata": {},
   "source": [
    "# Write a code that inverts a dictionary,swapping keys and values.Ensure that the inverted dictionary correctly handles cases where multiple  keys have the same value by sorting the keys as a list in the inverted dictionary."
   ]
  },
  {
   "cell_type": "code",
   "execution_count": 45,
   "id": "a07f8a9d",
   "metadata": {},
   "outputs": [
    {
     "name": "stdout",
     "output_type": "stream",
     "text": [
      "{1: ['a', 'c'], 2: ['b']}\n"
     ]
    }
   ],
   "source": [
    "#code\n",
    "dictionary = {'a': 1, 'b': 2, 'c': 1}\n",
    "\n",
    "inverted_dict = {}\n",
    "for key, value in dictionary.items():\n",
    "  if value in inverted_dict:\n",
    "    inverted_dict[value].append(key)\n",
    "  else:\n",
    "    inverted_dict[value] = [key]\n",
    "\n",
    "print(inverted_dict)  # Output: {1: ['a', 'c'], 2: ['b']}"
   ]
  },
  {
   "cell_type": "code",
   "execution_count": null,
   "id": "34ddbd75",
   "metadata": {},
   "outputs": [],
   "source": []
  }
 ],
 "metadata": {
  "kernelspec": {
   "display_name": "Python 3 (ipykernel)",
   "language": "python",
   "name": "python3"
  },
  "language_info": {
   "codemirror_mode": {
    "name": "ipython",
    "version": 3
   },
   "file_extension": ".py",
   "mimetype": "text/x-python",
   "name": "python",
   "nbconvert_exporter": "python",
   "pygments_lexer": "ipython3",
   "version": "3.9.12"
  }
 },
 "nbformat": 4,
 "nbformat_minor": 5
}
